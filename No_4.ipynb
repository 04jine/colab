{
  "nbformat": 4,
  "nbformat_minor": 0,
  "metadata": {
    "colab": {
      "name": "No.4.ipynb",
      "provenance": [],
      "authorship_tag": "ABX9TyMUabFjnkPsl/9JmuWnMpYo",
      "include_colab_link": true
    },
    "kernelspec": {
      "name": "python3",
      "display_name": "Python 3"
    },
    "language_info": {
      "name": "python"
    }
  },
  "cells": [
    {
      "cell_type": "markdown",
      "metadata": {
        "id": "view-in-github",
        "colab_type": "text"
      },
      "source": [
        "<a href=\"https://colab.research.google.com/github/04jine/colab/blob/main/No_4.ipynb\" target=\"_parent\"><img src=\"https://colab.research.google.com/assets/colab-badge.svg\" alt=\"Open In Colab\"/></a>"
      ]
    },
    {
      "cell_type": "code",
      "execution_count": 2,
      "metadata": {
        "colab": {
          "base_uri": "https://localhost:8080/"
        },
        "id": "PvoV7y4Na3mO",
        "outputId": "9f9653f1-5635-4ac4-e2bc-bacecada6f14"
      },
      "outputs": [
        {
          "output_type": "stream",
          "name": "stdout",
          "text": [
            "var1 변수의 데이터 타입은  <class 'int'>\n",
            "var2 변수의 데이터 타입은  <class 'int'>\n",
            "var3 변수의 데이터 타입은  <class 'int'>\n",
            "var4 변수의 데이터 타입은  <class 'str'>\n"
          ]
        }
      ],
      "source": [
        "var1, var2, var3 , var4 = 100, 3, 14, \"안산공고\",\n",
        "True\n",
        "print(\"var1 변수의 데이터 타입은 \",type(var1))\n",
        "print(\"var2 변수의 데이터 타입은 \",type(var2))\n",
        "print(\"var3 변수의 데이터 타입은 \",type(var3))\n",
        "print(\"var4 변수의 데이터 타입은 \",type(var4))\n"
      ]
    },
    {
      "cell_type": "code",
      "source": [
        "a = input(\"첫 번째 문자열 ==> \")\n",
        "b = input(\"두 번째 문자열 ==>\")\n",
        "\n",
        "len1 = len(a)\n",
        "len2 = len(b)\n",
        "\n",
        "diff = len1 - len2\n",
        "print(\"두 문자열의 길이 차이는\",diff,\"입니다.\")"
      ],
      "metadata": {
        "colab": {
          "base_uri": "https://localhost:8080/"
        },
        "id": "VRBdCRJidf2i",
        "outputId": "641a11f9-a429-44be-8562-213cf9708b51"
      },
      "execution_count": 3,
      "outputs": [
        {
          "output_type": "stream",
          "name": "stdout",
          "text": [
            "첫 번째 문자열 ==> 1\n",
            "두 번째 문자열 ==>2\n",
            "두 문자열의 길이 차이는 0 입니다.\n"
          ]
        }
      ]
    }
  ]
}