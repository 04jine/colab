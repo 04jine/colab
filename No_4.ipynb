{
  "nbformat": 4,
  "nbformat_minor": 0,
  "metadata": {
    "colab": {
      "name": "No.4.ipynb",
      "provenance": [],
      "authorship_tag": "ABX9TyP7G32YUDStyUqDu2P6zCKB",
      "include_colab_link": true
    },
    "kernelspec": {
      "name": "python3",
      "display_name": "Python 3"
    },
    "language_info": {
      "name": "python"
    }
  },
  "cells": [
    {
      "cell_type": "markdown",
      "metadata": {
        "id": "view-in-github",
        "colab_type": "text"
      },
      "source": [
        "<a href=\"https://colab.research.google.com/github/04jine/colab/blob/main/No_4.ipynb\" target=\"_parent\"><img src=\"https://colab.research.google.com/assets/colab-badge.svg\" alt=\"Open In Colab\"/></a>"
      ]
    },
    {
      "cell_type": "code",
      "execution_count": 2,
      "metadata": {
        "colab": {
          "base_uri": "https://localhost:8080/"
        },
        "id": "PvoV7y4Na3mO",
        "outputId": "9f9653f1-5635-4ac4-e2bc-bacecada6f14"
      },
      "outputs": [
        {
          "output_type": "stream",
          "name": "stdout",
          "text": [
            "var1 변수의 데이터 타입은  <class 'int'>\n",
            "var2 변수의 데이터 타입은  <class 'int'>\n",
            "var3 변수의 데이터 타입은  <class 'int'>\n",
            "var4 변수의 데이터 타입은  <class 'str'>\n"
          ]
        }
      ],
      "source": [
        "var1, var2, var3 , var4 = 100, 3, 14, \"안산공고\",\n",
        "True\n",
        "print(\"var1 변수의 데이터 타입은 \",type(var1))\n",
        "print(\"var2 변수의 데이터 타입은 \",type(var2))\n",
        "print(\"var3 변수의 데이터 타입은 \",type(var3))\n",
        "print(\"var4 변수의 데이터 타입은 \",type(var4))\n"
      ]
    },
    {
      "cell_type": "code",
      "source": [
        "a = input(\"첫 번째 문자열 ==> \")\n",
        "b = input(\"두 번째 문자열 ==>\")\n",
        "\n",
        "len1 = len(a)\n",
        "len2 = len(b)\n",
        "\n",
        "diff = len1 - len2\n",
        "print(\"두 문자열의 길이 차이는\",diff,\"입니다.\")"
      ],
      "metadata": {
        "colab": {
          "base_uri": "https://localhost:8080/"
        },
        "id": "VRBdCRJidf2i",
        "outputId": "641a11f9-a429-44be-8562-213cf9708b51"
      },
      "execution_count": 3,
      "outputs": [
        {
          "output_type": "stream",
          "name": "stdout",
          "text": [
            "첫 번째 문자열 ==> 1\n",
            "두 번째 문자열 ==>2\n",
            "두 문자열의 길이 차이는 0 입니다.\n"
          ]
        }
      ]
    },
    {
      "cell_type": "code",
      "source": [
        "str1 = input(\"문자열 입력\")\n",
        "print(\"입력된 문자열의 길이 : \",len(str1))\n",
        "print(\"입력된 문자열을 대문자로 변환 : \",str1.upper())\n",
        "print(\"입력된 문자열을 소문자로 변환 : \",str1.lower())\n",
        "print(\"입력된 문자열 중 ansan 몇번 나오는지 : \",str1.count(\"ansan\"))\n",
        "print(\"입력된 문자열은 대문자인가요? \",str1.isupper)\n",
        "print(\"입력된 문자열은 소문자인가요? \",str1.islower())"
      ],
      "metadata": {
        "colab": {
          "base_uri": "https://localhost:8080/"
        },
        "id": "WOzZgBnDm4Ef",
        "outputId": "5b483451-bbf3-44b4-85e2-ddbb44d960b0"
      },
      "execution_count": 4,
      "outputs": [
        {
          "output_type": "stream",
          "name": "stdout",
          "text": [
            "문자열 입력리현승\n",
            "입력된 문자열의 길이 :  3\n",
            "입력된 문자열을 대문자로 변환 :  리현승\n",
            "입력된 문자열을 소문자로 변환 :  리현승\n",
            "입력된 문자열 중 ansan 몇번 나오는지 :  0\n",
            "입력된 문자열은 대문자인가요?  <built-in method isupper of str object at 0x7fb5fd392df0>\n",
            "입력된 문자열은 소문자인가요?  False\n"
          ]
        }
      ]
    },
    {
      "cell_type": "code",
      "source": [
        "lyrics = '''When I find myself in times of trouble\n",
        "Mother Mary comes to me\n",
        "Speaking words of wisdom\n",
        "Let it be\n",
        "And in my hour of darkness\n",
        "She is standing right in front of me\n",
        "Speaking words of wisdom\n",
        "Let it be\n",
        "Let is be, let it be\n",
        "Let it be, let it be\n",
        "Whisper words of wisdom\n",
        "Let it be\n",
        "And when the brokenhearted people\n",
        "Living in the world agree\n",
        "There will be an answer\n",
        "Let it be\n",
        "For though they may be parted\n",
        "There is still a chance that they will see\n",
        "There will be an answer\n",
        "Let it be\n",
        "Let is be, let it be\n",
        "Let it be, let it be\n",
        "Yeah, there will be an answer\n",
        "Let it be\n",
        "Let is be, let it be\n",
        "Let it be, let it be\n",
        "Whisper words of wisdom\n",
        "Let it be\n",
        "Let is be, let it be\n",
        "Let it be, yeah, let it be\n",
        "Whisper words of wisdom\n",
        "Let it be\n",
        "And when the night is cloudy\n",
        "There is still a light that shines on me\n",
        "Shine on 'til tomorrow\n",
        "Let it be\n",
        "I wake up to the sound of music\n",
        "Mother Mary comes to me\n",
        "Speaking words of wisdom\n",
        "Let it be, yeah\n",
        "Let it be, let it be\n",
        "Let it be, yeah, let it be\n",
        "Oh, there will be an answer\n",
        "Let it be\n",
        "Let it be, let it be\n",
        "Let it be, yeah, let it be\n",
        "Whisper words of wisdom\n",
        "Let it be\n",
        "'''\n",
        "\n",
        "count = lyrics.upper()\n",
        "count = count.count(\"LET IT BE\")\n",
        "print(\"Let it be 는 총 \",count,\"번 나옵니다.\")"
      ],
      "metadata": {
        "colab": {
          "base_uri": "https://localhost:8080/"
        },
        "id": "8eqAf0Yoq2R-",
        "outputId": "a2a63342-1f42-4890-855f-3fcafe097eeb"
      },
      "execution_count": 6,
      "outputs": [
        {
          "output_type": "stream",
          "name": "stdout",
          "text": [
            "Let it be 는 총  32 번 나옵니다.\n"
          ]
        }
      ]
    },
    {
      "cell_type": "code",
      "source": [],
      "metadata": {
        "id": "uRre8lMzwIzl"
      },
      "execution_count": null,
      "outputs": []
    }
  ]
}