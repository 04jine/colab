{
  "nbformat": 4,
  "nbformat_minor": 0,
  "metadata": {
    "colab": {
      "provenance": [],
      "authorship_tag": "ABX9TyP+XjESYlJH62dKLRZIFdFj",
      "include_colab_link": true
    },
    "kernelspec": {
      "name": "python3",
      "display_name": "Python 3"
    },
    "language_info": {
      "name": "python"
    }
  },
  "cells": [
    {
      "cell_type": "markdown",
      "metadata": {
        "id": "view-in-github",
        "colab_type": "text"
      },
      "source": [
        "<a href=\"https://colab.research.google.com/github/04jine/colab/blob/main/No_5.ipynb\" target=\"_parent\"><img src=\"https://colab.research.google.com/assets/colab-badge.svg\" alt=\"Open In Colab\"/></a>"
      ]
    },
    {
      "cell_type": "code",
      "execution_count": 1,
      "metadata": {
        "colab": {
          "base_uri": "https://localhost:8080/"
        },
        "id": "vJEMw9qryxFe",
        "outputId": "1a24ef25-0327-4ec5-afdf-468373b229a5"
      },
      "outputs": [
        {
          "output_type": "stream",
          "name": "stdout",
          "text": [
            "100보다 작습니다\n"
          ]
        }
      ],
      "source": [
        "num = 99\n",
        "if num < 100 :\n",
        "  print(\"100보다 작습니다\")"
      ]
    },
    {
      "cell_type": "code",
      "source": [
        "num = 200\n",
        "if num > 100 :\n",
        "  print(\"100보다 \")\n",
        "  print(\"큽니다\")\n",
        "  print(\"프로그램 끝\")"
      ],
      "metadata": {
        "colab": {
          "base_uri": "https://localhost:8080/"
        },
        "id": "aWqvZ0Y73VZo",
        "outputId": "971f9c4b-cdd9-471b-a064-ffd901aeb070"
      },
      "execution_count": 2,
      "outputs": [
        {
          "output_type": "stream",
          "name": "stdout",
          "text": [
            "100보다 \n",
            "큽니다\n",
            "프로그램 끝\n"
          ]
        }
      ]
    },
    {
      "cell_type": "code",
      "source": [
        "num = 200\n",
        "if num < 100 :\n",
        "  print(\"100보다 작군요.\")\n",
        "else :\n",
        "  print(\"100보다 크군요.\")\n"
      ],
      "metadata": {
        "id": "2eMo1zvI4soV"
      },
      "execution_count": null,
      "outputs": []
    },
    {
      "cell_type": "code",
      "source": [
        "number = int(input(\"숫자를 입력하시오. : \"))\n",
        "if number % 2 == 0\n",
        "  print(number,\"홀수입니다\")\n",
        "else :\n",
        "  print(number,\"짝수입니다\")"
      ],
      "metadata": {
        "colab": {
          "base_uri": "https://localhost:8080/",
          "height": 137
        },
        "id": "Gwdb8kSD44Br",
        "outputId": "cbc4bfd2-d55c-4d2d-8a7f-fe870a46bf7f"
      },
      "execution_count": 12,
      "outputs": [
        {
          "output_type": "error",
          "ename": "SyntaxError",
          "evalue": "ignored",
          "traceback": [
            "\u001b[0;36m  File \u001b[0;32m\"<ipython-input-12-cb1ffa8f3534>\"\u001b[0;36m, line \u001b[0;32m2\u001b[0m\n\u001b[0;31m    if number % 2 == 0\u001b[0m\n\u001b[0m                      ^\u001b[0m\n\u001b[0;31mSyntaxError\u001b[0m\u001b[0;31m:\u001b[0m invalid syntax\n"
          ]
        }
      ]
    },
    {
      "cell_type": "code",
      "source": [
        "num = int(input(\"숫자를 입력 ==> \"))\n",
        "\n",
        "if num > 100 :\n",
        "    inf num < 1000 :\n",
        "      print(\"100보다 크고 1000보다 작군요.\")\n",
        "    else :\n",
        "      print(\"와~ 1000보다 크군요.\")\n",
        "else :\n",
        "    print(\"음~ 100보다 작군요.\")"
      ],
      "metadata": {
        "colab": {
          "base_uri": "https://localhost:8080/",
          "height": 137
        },
        "id": "fuDpoSox7UKa",
        "outputId": "ceb774dc-f50c-4be8-b3c8-e7d6a757b3eb"
      },
      "execution_count": 15,
      "outputs": [
        {
          "output_type": "error",
          "ename": "SyntaxError",
          "evalue": "ignored",
          "traceback": [
            "\u001b[0;36m  File \u001b[0;32m\"<ipython-input-15-07922f876b03>\"\u001b[0;36m, line \u001b[0;32m4\u001b[0m\n\u001b[0;31m    inf num < 1000 :\u001b[0m\n\u001b[0m          ^\u001b[0m\n\u001b[0;31mSyntaxError\u001b[0m\u001b[0;31m:\u001b[0m invalid syntax\n"
          ]
        }
      ]
    },
    {
      "cell_type": "code",
      "source": [
        "num = int(input(\"숫자를 입력 ==> \"))\n",
        "\n",
        "if num >= 90 :\n",
        "  print(\"A학점입니다.\")\n",
        "  if num >= 80 :\n",
        "    print(\"B학점입니다.\")\n",
        "    if num >= 70 :\n",
        "      print(\"C학점입니다.\")\n",
        "      if num >= 60 :\n",
        "        print(\"D학점입니다.\")\n",
        "else :\n",
        "  print(\"F학점입니다.\")\n"
      ],
      "metadata": {
        "colab": {
          "base_uri": "https://localhost:8080/"
        },
        "id": "595iosNrAA8F",
        "outputId": "dcf6b5da-2f99-4dfa-81e2-0ff6ffe9999f"
      },
      "execution_count": 24,
      "outputs": [
        {
          "output_type": "stream",
          "name": "stdout",
          "text": [
            "숫자를 입력 ==> 88\n",
            "F학점입니다.\n"
          ]
        }
      ]
    },
    {
      "cell_type": "code",
      "source": [
        "import random\n",
        "\n",
        "myHand = input(\"나의 가위/바위/보 ==>\")\n",
        "comHand = random.choice([\"가위\",\"바위\",\"보\"])\n",
        "print(\"컴퓨터의 가위/바위/보 ==>\",comHand)\n",
        "\n",
        "if myHand == comHand :\n",
        "  print(\"비겼습니다. --.--\")\n",
        "elif (myHand == \"가위\" and comHand == \"보\") or \\\n",
        "  (myHand == \"바위\" and comHand == \"가위\") or  \\\n",
        "  (myHand == \"보\" and comHand == \"바위\") :\n",
        "  print(\"이겼습니다. ^^\")\n",
        "else :\n",
        "  print(\"졌습니다. ㅠㅠ\")"
      ],
      "metadata": {
        "colab": {
          "base_uri": "https://localhost:8080/",
          "height": 137
        },
        "id": "_h_FrG5wZ2zJ",
        "outputId": "8a84ee60-f783-4131-84ac-c6b3b0f0a469"
      },
      "execution_count": 27,
      "outputs": [
        {
          "output_type": "error",
          "ename": "SyntaxError",
          "evalue": "ignored",
          "traceback": [
            "\u001b[0;36m  File \u001b[0;32m\"<ipython-input-27-afd4cc44ede2>\"\u001b[0;36m, line \u001b[0;32m9\u001b[0m\n\u001b[0;31m    elif (myHand == \"가위\" and comHand == \"보\") or\u001b[0m\n\u001b[0m                                                ^\u001b[0m\n\u001b[0;31mSyntaxError\u001b[0m\u001b[0;31m:\u001b[0m invalid syntax\n"
          ]
        }
      ]
    }
  ]
}