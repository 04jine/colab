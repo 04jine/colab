{
  "nbformat": 4,
  "nbformat_minor": 0,
  "metadata": {
    "colab": {
      "name": "No.3.ipynb",
      "provenance": [],
      "authorship_tag": "ABX9TyM8m/UyYIqceuu0PxExYgmq",
      "include_colab_link": true
    },
    "kernelspec": {
      "name": "python3",
      "display_name": "Python 3"
    },
    "language_info": {
      "name": "python"
    }
  },
  "cells": [
    {
      "cell_type": "markdown",
      "metadata": {
        "id": "view-in-github",
        "colab_type": "text"
      },
      "source": [
        "<a href=\"https://colab.research.google.com/github/04jine/colab/blob/main/No_3.ipynb\" target=\"_parent\"><img src=\"https://colab.research.google.com/assets/colab-badge.svg\" alt=\"Open In Colab\"/></a>"
      ]
    },
    {
      "cell_type": "markdown",
      "source": [
        "3장 연산자\n",
        "\n",
        "형서평가-파운드를 킬로그램으로 변경"
      ],
      "metadata": {
        "id": "sxMcyqLqzUAB"
      }
    },
    {
      "cell_type": "code",
      "execution_count": 8,
      "metadata": {
        "colab": {
          "base_uri": "https://localhost:8080/"
        },
        "id": "Kvbxf8FGvsAM",
        "outputId": "c7661a92-f719-4d9d-ca6e-1ef6aa223841"
      },
      "outputs": [
        {
          "output_type": "stream",
          "name": "stdout",
          "text": [
            "파운드를 입력하세요 : 15\n",
            "15.0 파운드는 6.804 킬로그램입니다\n",
            "킬로그램을 입력하세요 : 15\n",
            "15.0 킬로그램은 33.069 파운드입니다\n"
          ]
        }
      ],
      "source": [
        "a = float(input(\"파운드를 입력하세요 : \"))\n",
        "kg = a * 0.453592\n",
        "print(a,\"파운드는\",round(kg,3),\"킬로그램입니다\")\n",
        "\n",
        "a = float(input(\"킬로그램을 입력하세요 : \"))\n",
        "b = a * 2.204623\n",
        "print(a,\"킬로그램은\",round(b,3),\"파운드입니다\")"
      ]
    }
  ]
}