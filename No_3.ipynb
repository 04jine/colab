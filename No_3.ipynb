{
  "nbformat": 4,
  "nbformat_minor": 0,
  "metadata": {
    "colab": {
      "name": "No.3.ipynb",
      "provenance": [],
      "authorship_tag": "ABX9TyNIQvqZZZWRDX2i5tdZXA5N",
      "include_colab_link": true
    },
    "kernelspec": {
      "name": "python3",
      "display_name": "Python 3"
    },
    "language_info": {
      "name": "python"
    }
  },
  "cells": [
    {
      "cell_type": "markdown",
      "metadata": {
        "id": "view-in-github",
        "colab_type": "text"
      },
      "source": [
        "<a href=\"https://colab.research.google.com/github/04jine/colab/blob/main/No_3.ipynb\" target=\"_parent\"><img src=\"https://colab.research.google.com/assets/colab-badge.svg\" alt=\"Open In Colab\"/></a>"
      ]
    },
    {
      "cell_type": "markdown",
      "source": [
        "3장 연산자\n",
        "\n",
        "형서평가-파운드를 킬로그램으로 변경"
      ],
      "metadata": {
        "id": "sxMcyqLqzUAB"
      }
    },
    {
      "cell_type": "code",
      "execution_count": 8,
      "metadata": {
        "colab": {
          "base_uri": "https://localhost:8080/"
        },
        "id": "Kvbxf8FGvsAM",
        "outputId": "c7661a92-f719-4d9d-ca6e-1ef6aa223841"
      },
      "outputs": [
        {
          "output_type": "stream",
          "name": "stdout",
          "text": [
            "파운드를 입력하세요 : 15\n",
            "15.0 파운드는 6.804 킬로그램입니다\n",
            "킬로그램을 입력하세요 : 15\n",
            "15.0 킬로그램은 33.069 파운드입니다\n"
          ]
        }
      ],
      "source": [
        "a = float(input(\"파운드를 입력하세요 : \"))\n",
        "kg = a * 0.453592\n",
        "print(a,\"파운드는\",round(kg,3),\"킬로그램입니다\")\n",
        "\n",
        "a = float(input(\"킬로그램을 입력하세요 : \"))\n",
        "b = a * 2.204623\n",
        "print(a,\"킬로그램은\",round(b,3),\"파운드입니다\")"
      ]
    },
    {
      "cell_type": "markdown",
      "source": [
        "형성평가 : 편의점 하루 매출 계산하기"
      ],
      "metadata": {
        "id": "bL9YUr274P6J"
      }
    },
    {
      "cell_type": "code",
      "source": [
        "sum = 0\n",
        "\n",
        "sum -= 900*10 #삼각김밥\n",
        "sum += 1800*2 #바나나맛 우유\n",
        "sum -= 3500*5 #도시락\n",
        "sum += 4000*4 #도시락\n",
        "sum += 1500 #콜라\n",
        "sum += 2000*4 #새우깡\n",
        "sum += 1800*5 #캔커피\n",
        "\n",
        "print(\"오늘 총 매출액은\",sum,\"입니다\")"
      ],
      "metadata": {
        "colab": {
          "base_uri": "https://localhost:8080/"
        },
        "id": "wH8lj7I_288Q",
        "outputId": "c2d44ebc-5ede-440e-8327-ecaef68c497a"
      },
      "execution_count": 12,
      "outputs": [
        {
          "output_type": "stream",
          "name": "stdout",
          "text": [
            "오늘 총 매출액은 11600 입니다\n"
          ]
        }
      ]
    }
  ]
}