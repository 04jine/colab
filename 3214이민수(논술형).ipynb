{
  "nbformat": 4,
  "nbformat_minor": 0,
  "metadata": {
    "colab": {
      "name": "3214이민수(논술형).ipynb",
      "provenance": [],
      "authorship_tag": "ABX9TyNrcsHx3lNo0yOo/tgCy16l",
      "include_colab_link": true
    },
    "kernelspec": {
      "name": "python3",
      "display_name": "Python 3"
    },
    "language_info": {
      "name": "python"
    }
  },
  "cells": [
    {
      "cell_type": "markdown",
      "metadata": {
        "id": "view-in-github",
        "colab_type": "text"
      },
      "source": [
        "<a href=\"https://colab.research.google.com/github/04jine/colab/blob/main/3214%EC%9D%B4%EB%AF%BC%EC%88%98(%EB%85%BC%EC%88%A0%ED%98%95).ipynb\" target=\"_parent\"><img src=\"https://colab.research.google.com/assets/colab-badge.svg\" alt=\"Open In Colab\"/></a>"
      ]
    },
    {
      "cell_type": "markdown",
      "source": [
        "컴퓨터과 3학년 2반 14번 이민수"
      ],
      "metadata": {
        "id": "k1ziM6GZEgfi"
      }
    },
    {
      "cell_type": "code",
      "execution_count": 12,
      "metadata": {
        "colab": {
          "base_uri": "https://localhost:8080/"
        },
        "id": "zJ0AinVEEZBs",
        "outputId": "7b5e6016-947c-408a-e93b-873abb525aac"
      },
      "outputs": [
        {
          "output_type": "stream",
          "name": "stdout",
          "text": [
            "첫번째 숫자를 입력하시오 : 4\n",
            "두번째 숫자를 입력하시오 : 2\n",
            "6\n",
            "2\n",
            "8\n",
            "2\n",
            "0\n",
            "0\n",
            "16\n"
          ]
        }
      ],
      "source": [
        "num1 = float(input(\"첫번째 숫자를 입력하시오 : \"))\n",
        "num2 = float(input(\"두번째 숫자를 입력하시오 : \"))\n",
        "\n",
        "result1 = int(num1 + num2)\n",
        "result2 = int(num1 - num2)\n",
        "result3 = int(num1 * num2)\n",
        "result4 = int(num1 / num2)\n",
        "result5 = int(num1 % num2)\n",
        "result6 = int(num1 % num2) \n",
        "result7 = int(num1 ** num2)\n",
        "\n",
        "print(result1)\n",
        "print(result2)\n",
        "print(result3)\n",
        "print(result4)\n",
        "print(result5)\n",
        "print(result6)\n",
        "print(result7)"
      ]
    }
  ]
}