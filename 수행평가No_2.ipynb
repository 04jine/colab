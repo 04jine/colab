{
  "nbformat": 4,
  "nbformat_minor": 0,
  "metadata": {
    "colab": {
      "provenance": [],
      "authorship_tag": "ABX9TyMlTF/XoFBal5HQowB6IMZR",
      "include_colab_link": true
    },
    "kernelspec": {
      "name": "python3",
      "display_name": "Python 3"
    },
    "language_info": {
      "name": "python"
    }
  },
  "cells": [
    {
      "cell_type": "markdown",
      "metadata": {
        "id": "view-in-github",
        "colab_type": "text"
      },
      "source": [
        "<a href=\"https://colab.research.google.com/github/04jine/colab/blob/main/%EC%88%98%ED%96%89%ED%8F%89%EA%B0%80No_2.ipynb\" target=\"_parent\"><img src=\"https://colab.research.google.com/assets/colab-badge.svg\" alt=\"Open In Colab\"/></a>"
      ]
    },
    {
      "cell_type": "code",
      "execution_count": 1,
      "metadata": {
        "colab": {
          "base_uri": "https://localhost:8080/"
        },
        "id": "KOjqDwyCjTnQ",
        "outputId": "88d813e9-db09-45fc-ac80-d57ae475b0eb"
      },
      "outputs": [
        {
          "output_type": "stream",
          "name": "stdout",
          "text": [
            "원본 문자열 ==> 트와이스\n",
            "반대 문자열 ==> 스이와트"
          ]
        }
      ],
      "source": [
        "text = \"트와이스\"\n",
        "print(\"원본 문자열 ==>\",text)\n",
        "\n",
        "print(\"반대 문자열 ==> \", end='')\n",
        "print(text[3], end='')\n",
        "print(text[2], end='')\n",
        "print(text[1], end='')\n",
        "print(text[0], end='')"
      ]
    },
    {
      "cell_type": "code",
      "source": [
        "ss = \"Python\"\n",
        "print(\"원본 문자열 ==>\",ss)\n",
        "\n",
        "text = \"\"\n",
        "\n",
        "text += ss[0].lower()\n",
        "text += ss[1].upper()\n",
        "text += ss[2].upper()\n",
        "text += ss[3].upper()\n",
        "text += ss[4].upper()\n",
        "text += ss[5].upper()\n",
        "\n",
        "print(\"변환 문자열 ==> \", end='')\n",
        "print(text)"
      ],
      "metadata": {
        "colab": {
          "base_uri": "https://localhost:8080/"
        },
        "id": "MjitM9yjrxbZ",
        "outputId": "d8c43933-892e-4d10-a3c8-119e2c0487cc"
      },
      "execution_count": 2,
      "outputs": [
        {
          "output_type": "stream",
          "name": "stdout",
          "text": [
            "원본 문자열 ==> Python\n",
            "변환 문자열 ==> pYTHON\n"
          ]
        }
      ]
    },
    {
      "cell_type": "code",
      "source": [
        "text1 = input(\"첫 번째 문자열 ==>\")\n",
        "text2 = input(\"첫 번째 문자열 ==>\")\n",
        "\n",
        "len1 = len(text1)\n",
        "len2 = len(text2)\n",
        "\n",
        "diff = len1 - len2\n",
        "\n",
        "print(\"두 문자열의 길이 차이는\",diff,\"입니다\")"
      ],
      "metadata": {
        "colab": {
          "base_uri": "https://localhost:8080/"
        },
        "id": "etERa-_gyejv",
        "outputId": "154faf00-2802-4f0c-f2fc-8d7fe547bb7c"
      },
      "execution_count": 3,
      "outputs": [
        {
          "output_type": "stream",
          "name": "stdout",
          "text": [
            "첫 번째 문자열 ==>4\n",
            "첫 번째 문자열 ==>-4\n",
            "두 문자열의 길이 차이는 -1 입니다\n"
          ]
        }
      ]
    }
  ]
}