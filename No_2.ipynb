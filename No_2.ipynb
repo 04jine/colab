{
  "nbformat": 4,
  "nbformat_minor": 0,
  "metadata": {
    "colab": {
      "name": "No.2.ipynb",
      "provenance": [],
      "authorship_tag": "ABX9TyNZieYSUfjLDCUZCN0kj2Io",
      "include_colab_link": true
    },
    "kernelspec": {
      "name": "python3",
      "display_name": "Python 3"
    },
    "language_info": {
      "name": "python"
    }
  },
  "cells": [
    {
      "cell_type": "markdown",
      "metadata": {
        "id": "view-in-github",
        "colab_type": "text"
      },
      "source": [
        "<a href=\"https://colab.research.google.com/github/04jine/colab/blob/main/No_2.ipynb\" target=\"_parent\"><img src=\"https://colab.research.google.com/assets/colab-badge.svg\" alt=\"Open In Colab\"/></a>"
      ]
    },
    {
      "cell_type": "markdown",
      "source": [
        "* 파이썬 2장\n",
        "* 변수란 "
      ],
      "metadata": {
        "id": "FeMsrJTJB5Uh"
      }
    },
    {
      "cell_type": "code",
      "execution_count": 15,
      "metadata": {
        "colab": {
          "base_uri": "https://localhost:8080/",
          "height": 137
        },
        "id": "vtgU4uMlAQVV",
        "outputId": "7745cc40-3772-4812-8bd9-e0b8f1258b3d"
      },
      "outputs": [
        {
          "output_type": "error",
          "ename": "SyntaxError",
          "evalue": "ignored",
          "traceback": [
            "\u001b[0;36m  File \u001b[0;32m\"<ipython-input-15-6d84d2f28e86>\"\u001b[0;36m, line \u001b[0;32m7\u001b[0m\n\u001b[0;31m    print(num1,\"+\" num2 ,\"=\", result1)\u001b[0m\n\u001b[0m                      ^\u001b[0m\n\u001b[0;31mSyntaxError\u001b[0m\u001b[0;31m:\u001b[0m invalid syntax\n"
          ]
        }
      ],
      "source": [
        "num1 = input(\"첫번째 숫자 입력\")\n",
        "num2 = input(\"두번째 숫자 입력\")\n",
        "result1 = num1 + num2\n",
        "result2 = num1 - num2\n",
        "result3 = num1 / num2\n",
        "result4 = num1 * num2 \n",
        "print(num1,\"+\" num2 ,\"=\", result1)\n",
        "print(num1 \"-\", num2 ,\"=\", result2)\n",
        "print(num1 \"/\", num2 ,\"=\", result3)\n",
        "print(num1 \"%\",num2 ,\"=\", result4)"
      ]
    },
    {
      "cell_type": "markdown",
      "source": [
        "input()함수 예제"
      ],
      "metadata": {
        "id": "v_O8BnFMGfLw"
      }
    },
    {
      "cell_type": "code",
      "source": [
        "num1 = float(input(\"첫번째 숫자 입력 : \"))\n",
        "num2 = float(input(\"두번째 숫자 입력 :\"))\n",
        "print(num1,\"+\",num2 ,\"=\",num1+num2)\n",
        "print(num1,\"-\",num2 ,\"=\",num1-num2)\n",
        "print(num1,\"x\",num2 ,\"=\",num1*num2)\n",
        "print(num1,\"/\",num2 ,\"=\",num1/num2)"
      ],
      "metadata": {
        "colab": {
          "base_uri": "https://localhost:8080/"
        },
        "id": "wsuVCWuAGeQi",
        "outputId": "459f7303-95dc-4826-f588-276f63dc657e"
      },
      "execution_count": 18,
      "outputs": [
        {
          "output_type": "stream",
          "name": "stdout",
          "text": [
            "첫번째 숫자 입력 : 100\n",
            "두번째 숫자 입력 :200\n",
            "100.0 + 200.0 = 300.0\n",
            "100.0 - 200.0 = -100.0\n",
            "100.0 x 200.0 = 20000.0\n",
            "100.0 / 200.0 = 0.5\n"
          ]
        }
      ]
    },
    {
      "cell_type": "code",
      "source": [
        "name1 = (input(\"이름을 입력하시오 : \"))\n",
        "name2 = (input(\"전화번호를 입력하시오 : \"))\n",
        "print(\"제 이름은\",(name1),\"이고\",\"연락처는\",(name2),\"입니다\") "
      ],
      "metadata": {
        "colab": {
          "base_uri": "https://localhost:8080/"
        },
        "id": "a0gyVuEtOivd",
        "outputId": "3a148ecd-e016-48b6-9e9c-afcbbc818396"
      },
      "execution_count": 24,
      "outputs": [
        {
          "output_type": "stream",
          "name": "stdout",
          "text": [
            "이름을 입력하시오 : 리현승\n",
            "전화번호를 입력하시오 : 010-5946-2847\n",
            "제 이름은 리현승 이고 연락처는 010-5946-2847 입니다\n"
          ]
        }
      ]
    },
    {
      "cell_type": "code",
      "source": [
        "name1 = input(\"받는 사람 ==> \")\n",
        "name2 = input(\"주소 ==> \")\n",
        "name3 = int(input(\"무게(g) ==> \"))\n",
        "print(\"받는 사람 ==> \",(name1))\n",
        "print(\"주소 ==> \",(name2))\n",
        "print(\"배송비 ==> \",name3*5,\"원\")"
      ],
      "metadata": {
        "colab": {
          "base_uri": "https://localhost:8080/"
        },
        "id": "JSH_T53RQfUz",
        "outputId": "62e1de7a-704a-4d0f-fbc6-5b7c865bdc52"
      },
      "execution_count": 31,
      "outputs": [
        {
          "output_type": "stream",
          "name": "stdout",
          "text": [
            "받는 사람 ==> fl\n",
            "주소 ==> 현\n",
            "무게(g) ==> 300\n",
            "받는 사람 ==>  fl\n",
            "주소 ==>  현\n",
            "배송비 ==>  1500 원\n"
          ]
        }
      ]
    },
    {
      "cell_type": "code",
      "source": [
        "a = int(input(\"숫자1 ==> \"))\n",
        "b = int(input(\"숫자2 ==> \"))\n",
        "c1 = a + b\n",
        "c2 = a - b\n",
        "c3 = a * b\n",
        "c4 = a / b\n",
        "c5 = a % b\n",
        "c6 = a ** b\n",
        "c7 = a // b \n",
        "print(a,\"+\",b,\"=\",c1)\n",
        "print(a,\"-\",b,\"=\",c2)\n",
        "print(a,\"*\",b,\"=\",c3)\n",
        "print(a,\"/\",b,\"=\",c4)\n",
        "print(a,\"%\",b,\"=\",c5)\n",
        "print(a,\"**\",b,\"=\",c6)\n",
        "print(a,\"//\",b,\"=\",c7)"
      ],
      "metadata": {
        "colab": {
          "base_uri": "https://localhost:8080/"
        },
        "id": "q3wL7k5STNTS",
        "outputId": "c503c446-eefc-4c5a-d8c6-d6cc641a3514"
      },
      "execution_count": 38,
      "outputs": [
        {
          "output_type": "stream",
          "name": "stdout",
          "text": [
            "숫자1 ==> 4\n",
            "숫자2 ==> 2\n",
            "4 + 2 = 6\n",
            "4 - 2 = 2\n",
            "4 * 2 = 8\n",
            "4 / 2 = 2.0\n",
            "4 % 2 = 0\n",
            "4 ** 2 = 16\n",
            "4 // 2 = 2\n"
          ]
        }
      ]
    },
    {
      "cell_type": "markdown",
      "source": [
        "거북이 예제"
      ],
      "metadata": {
        "id": "vTEXgnhGWFJ1"
      }
    },
    {
      "cell_type": "code",
      "source": [
        "#!pip3 install ColabTurtle\n",
        "import ColabTurtle. Turtle as turtle\n",
        "\n",
        "\n",
        "turtle.initializeTurtle()\n",
        "turtle.forward(50)\n",
        "turtle.left(410)\n",
        "turtle.forward(50)"
      ],
      "metadata": {
        "colab": {
          "base_uri": "https://localhost:8080/",
          "height": 520
        },
        "id": "WnN8KmBQVrdr",
        "outputId": "8cbc76f9-cf8f-4c6d-982c-cc5430680500"
      },
      "execution_count": 48,
      "outputs": [
        {
          "output_type": "display_data",
          "data": {
            "text/plain": [
              "<IPython.core.display.HTML object>"
            ],
            "text/html": [
              "\n",
              "      <svg width=\"800\" height=\"500\">\n",
              "        <rect width=\"100%\" height=\"100%\" fill=\"black\"/>\n",
              "        <line x1=\"400\" y1=\"250\" x2=\"400.0\" y2=\"200.0\" stroke-linecap=\"round\" style=\"stroke:white;stroke-width:4\"/><line x1=\"400.0\" y1=\"200.0\" x2=\"361.698\" y2=\"167.861\" stroke-linecap=\"round\" style=\"stroke:white;stroke-width:4\"/>\n",
              "        <g visibility=visible transform=\"rotate(310,361.698,167.861) translate(343.698, 149.861)\">\n",
              "<path style=\" stroke:none;fill-rule:evenodd;fill:white;fill-opacity:1;\" d=\"M 18.214844 0.632812 C 16.109375 1.800781 15.011719 4.074219 15.074219 7.132812 L 15.085938 7.652344 L 14.785156 7.496094 C 13.476562 6.824219 11.957031 6.671875 10.40625 7.066406 C 8.46875 7.550781 6.515625 9.15625 4.394531 11.992188 C 3.0625 13.777344 2.679688 14.636719 3.042969 15.027344 L 3.15625 15.152344 L 3.519531 15.152344 C 4.238281 15.152344 4.828125 14.886719 8.1875 13.039062 C 9.386719 12.378906 10.371094 11.839844 10.378906 11.839844 C 10.386719 11.839844 10.355469 11.929688 10.304688 12.035156 C 9.832031 13.09375 9.257812 14.820312 8.96875 16.078125 C 7.914062 20.652344 8.617188 24.53125 11.070312 27.660156 C 11.351562 28.015625 11.363281 27.914062 10.972656 28.382812 C 8.925781 30.84375 7.945312 33.28125 8.238281 35.1875 C 8.289062 35.527344 8.28125 35.523438 8.917969 35.523438 C 10.941406 35.523438 13.074219 34.207031 15.136719 31.6875 C 15.359375 31.417969 15.328125 31.425781 15.5625 31.574219 C 16.292969 32.042969 18.023438 32.964844 18.175781 32.964844 C 18.335938 32.964844 19.941406 32.210938 20.828125 31.71875 C 20.996094 31.625 21.136719 31.554688 21.136719 31.558594 C 21.203125 31.664062 21.898438 32.414062 22.222656 32.730469 C 23.835938 34.300781 25.5625 35.132812 27.582031 35.300781 C 27.90625 35.328125 27.9375 35.308594 28.007812 34.984375 C 28.382812 33.242188 27.625 30.925781 25.863281 28.425781 L 25.542969 27.96875 L 25.699219 27.785156 C 28.945312 23.960938 29.132812 18.699219 26.257812 11.96875 L 26.207031 11.84375 L 27.945312 12.703125 C 31.53125 14.476562 32.316406 14.800781 33.03125 14.800781 C 33.976562 14.800781 33.78125 13.9375 32.472656 12.292969 C 28.519531 7.355469 25.394531 5.925781 21.921875 7.472656 L 21.558594 7.636719 L 21.578125 7.542969 C 21.699219 6.992188 21.761719 5.742188 21.699219 5.164062 C 21.496094 3.296875 20.664062 1.964844 19.003906 0.855469 C 18.480469 0.503906 18.457031 0.5 18.214844 0.632812\"/>\n",
              "</g>\n",
              "      </svg>\n",
              "    "
            ]
          },
          "metadata": {}
        }
      ]
    }
  ]
}