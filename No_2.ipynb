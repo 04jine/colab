{
  "nbformat": 4,
  "nbformat_minor": 0,
  "metadata": {
    "colab": {
      "name": "No.2.ipynb",
      "provenance": [],
      "authorship_tag": "ABX9TyPA1J2U1JMyK3YKJvp+uvLn",
      "include_colab_link": true
    },
    "kernelspec": {
      "name": "python3",
      "display_name": "Python 3"
    },
    "language_info": {
      "name": "python"
    }
  },
  "cells": [
    {
      "cell_type": "markdown",
      "metadata": {
        "id": "view-in-github",
        "colab_type": "text"
      },
      "source": [
        "<a href=\"https://colab.research.google.com/github/04jine/colab/blob/main/No_2.ipynb\" target=\"_parent\"><img src=\"https://colab.research.google.com/assets/colab-badge.svg\" alt=\"Open In Colab\"/></a>"
      ]
    },
    {
      "cell_type": "markdown",
      "source": [
        "* 파이썬 2장\n",
        "* 변수란 "
      ],
      "metadata": {
        "id": "FeMsrJTJB5Uh"
      }
    },
    {
      "cell_type": "code",
      "execution_count": 15,
      "metadata": {
        "colab": {
          "base_uri": "https://localhost:8080/",
          "height": 137
        },
        "id": "vtgU4uMlAQVV",
        "outputId": "7745cc40-3772-4812-8bd9-e0b8f1258b3d"
      },
      "outputs": [
        {
          "output_type": "error",
          "ename": "SyntaxError",
          "evalue": "ignored",
          "traceback": [
            "\u001b[0;36m  File \u001b[0;32m\"<ipython-input-15-6d84d2f28e86>\"\u001b[0;36m, line \u001b[0;32m7\u001b[0m\n\u001b[0;31m    print(num1,\"+\" num2 ,\"=\", result1)\u001b[0m\n\u001b[0m                      ^\u001b[0m\n\u001b[0;31mSyntaxError\u001b[0m\u001b[0;31m:\u001b[0m invalid syntax\n"
          ]
        }
      ],
      "source": [
        "num1 = input(\"첫번째 숫자 입력\")\n",
        "num2 = input(\"두번째 숫자 입력\")\n",
        "result1 = num1 + num2\n",
        "result2 = num1 - num2\n",
        "result3 = num1 / num2\n",
        "result4 = num1 * num2 \n",
        "print(num1,\"+\" num2 ,\"=\", result1)\n",
        "print(num1 \"-\", num2 ,\"=\", result2)\n",
        "print(num1 \"/\", num2 ,\"=\", result3)\n",
        "print(num1 \"%\",num2 ,\"=\", result4)"
      ]
    },
    {
      "cell_type": "markdown",
      "source": [
        "input()함수 예제"
      ],
      "metadata": {
        "id": "v_O8BnFMGfLw"
      }
    },
    {
      "cell_type": "code",
      "source": [
        "num1 = float(input(\"첫번째 숫자 입력 : \"))\n",
        "num2 = float(input(\"두번째 숫자 입력 :\"))\n",
        "print(num1,\"+\",num2 ,\"=\",num1+num2)\n",
        "print(num1,\"-\",num2 ,\"=\",num1-num2)\n",
        "print(num1,\"x\",num2 ,\"=\",num1*num2)\n",
        "print(num1,\"/\",num2 ,\"=\",num1/num2)"
      ],
      "metadata": {
        "colab": {
          "base_uri": "https://localhost:8080/"
        },
        "id": "wsuVCWuAGeQi",
        "outputId": "459f7303-95dc-4826-f588-276f63dc657e"
      },
      "execution_count": 18,
      "outputs": [
        {
          "output_type": "stream",
          "name": "stdout",
          "text": [
            "첫번째 숫자 입력 : 100\n",
            "두번째 숫자 입력 :200\n",
            "100.0 + 200.0 = 300.0\n",
            "100.0 - 200.0 = -100.0\n",
            "100.0 x 200.0 = 20000.0\n",
            "100.0 / 200.0 = 0.5\n"
          ]
        }
      ]
    },
    {
      "cell_type": "code",
      "source": [
        "name1 = (input(\"이름을 입력하시오 : \"))\n",
        "name2 = (input(\"전화번호를 입력하시오 : \"))\n",
        "print(\"제 이름은\",(name1),\"이고\",\"연락처는\",(name2),\"입니다\") "
      ],
      "metadata": {
        "colab": {
          "base_uri": "https://localhost:8080/"
        },
        "id": "a0gyVuEtOivd",
        "outputId": "3a148ecd-e016-48b6-9e9c-afcbbc818396"
      },
      "execution_count": 24,
      "outputs": [
        {
          "output_type": "stream",
          "name": "stdout",
          "text": [
            "이름을 입력하시오 : 리현승\n",
            "전화번호를 입력하시오 : 010-5946-2847\n",
            "제 이름은 리현승 이고 연락처는 010-5946-2847 입니다\n"
          ]
        }
      ]
    }
  ]
}