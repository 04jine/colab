{
  "nbformat": 4,
  "nbformat_minor": 0,
  "metadata": {
    "colab": {
      "provenance": [],
      "authorship_tag": "ABX9TyMj0QASdR1ZLHiu2AhoE0wL",
      "include_colab_link": true
    },
    "kernelspec": {
      "name": "python3",
      "display_name": "Python 3"
    },
    "language_info": {
      "name": "python"
    }
  },
  "cells": [
    {
      "cell_type": "markdown",
      "metadata": {
        "id": "view-in-github",
        "colab_type": "text"
      },
      "source": [
        "<a href=\"https://colab.research.google.com/github/04jine/colab/blob/main/Untitled0.ipynb\" target=\"_parent\"><img src=\"https://colab.research.google.com/assets/colab-badge.svg\" alt=\"Open In Colab\"/></a>"
      ]
    },
    {
      "cell_type": "code",
      "execution_count": 1,
      "metadata": {
        "colab": {
          "base_uri": "https://localhost:8080/"
        },
        "id": "I3sfXpNBHeHE",
        "outputId": "05ed1b50-ad48-41d3-a73b-67751d585e90"
      },
      "outputs": [
        {
          "output_type": "stream",
          "name": "stdout",
          "text": [
            "난생처음 파이썬은 재미있습니다.^^\n",
            "난생처음 파이썬은 재미있습니다.^^\n",
            "난생처음 파이썬은 재미있습니다.^^\n"
          ]
        }
      ],
      "source": [
        "for i in range(3):\n",
        "  print(\"난생처음 파이썬은 재미있습니다.^^\")"
      ]
    },
    {
      "cell_type": "code",
      "source": [
        "fact = 1\n",
        "friends_num = 5\n",
        "\n",
        "for i in range(1,friends_num+1,1):\n",
        "  fact = fact * i\n",
        "\n",
        "print(\"A,B,C,D,E 학생들을 순서대로 세우는 경우의 수 : \",fact)"
      ],
      "metadata": {
        "colab": {
          "base_uri": "https://localhost:8080/"
        },
        "id": "-suYtfOYMSuU",
        "outputId": "936e646a-bbf8-4490-fe81-a1ab4ef93297"
      },
      "execution_count": 2,
      "outputs": [
        {
          "output_type": "stream",
          "name": "stdout",
          "text": [
            "A,B,C,D,E 학생들을 순서대로 세우는 경우의 수 :  120\n"
          ]
        }
      ]
    },
    {
      "cell_type": "code",
      "source": [],
      "metadata": {
        "id": "sbUqzK7jOl_7"
      },
      "execution_count": null,
      "outputs": []
    }
  ]
}